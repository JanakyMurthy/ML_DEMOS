{
  "nbformat": 4,
  "nbformat_minor": 0,
  "metadata": {
    "colab": {
      "name": "learn_pytorch.ipynb",
      "version": "0.3.2",
      "provenance": [],
      "include_colab_link": true
    },
    "kernelspec": {
      "name": "python3",
      "display_name": "Python 3"
    }
  },
  "cells": [
    {
      "cell_type": "markdown",
      "metadata": {
        "id": "view-in-github",
        "colab_type": "text"
      },
      "source": [
        "<a href=\"https://colab.research.google.com/github/JanakyMurthy/ML_DEMOS/blob/master/learn_pytorch.ipynb\" target=\"_parent\"><img src=\"https://colab.research.google.com/assets/colab-badge.svg\" alt=\"Open In Colab\"/></a>"
      ]
    },
    {
      "cell_type": "code",
      "metadata": {
        "id": "tCpZ9AL-rXOa",
        "colab_type": "code",
        "colab": {
          "base_uri": "https://localhost:8080/",
          "height": 526
        },
        "outputId": "7df7e379-b88f-4800-b72c-9e641196a3ca"
      },
      "source": [
        "import torch\n",
        "\n",
        "\n",
        "### Initialization ###\n",
        "# Construct a 5 * 3 uninitialized matrix\n",
        "x = torch.empty(5,3)\n",
        "print(x)\n",
        "\n",
        "# Construct a randomly initialized matrix\n",
        "x = torch.rand(5,3)\n",
        "print(x)\n",
        "\n",
        "# Construct a matrix with  0s and dtype long\n",
        "x = torch.zeros(5,3,dtype = torch.long)\n",
        "print(x)\n",
        "\n",
        "# Construct a tensor directly from data\n",
        "x = torch.tensor([[5.5,3],[2,5]])\n",
        "print(x)\n",
        "\n",
        "x = x.new_ones(5,3,dtype = torch.double)\n",
        "print(x)\n",
        "\n",
        "x= torch.randn_like(x, dtype = torch.float)\n",
        "print(x)\n",
        "print(x.size())\n"
      ],
      "execution_count": 10,
      "outputs": [
        {
          "output_type": "stream",
          "text": [
            "tensor([[4.4975e-36, 0.0000e+00, 4.4842e-44],\n",
            "        [0.0000e+00,        nan, 1.0181e+00],\n",
            "        [1.0384e-08, 6.8621e-07, 2.1877e-04],\n",
            "        [1.7265e-07, 2.6727e+23, 1.3411e-08],\n",
            "        [4.2468e+21, 1.3591e+22, 1.8452e+00]])\n",
            "tensor([[0.2752, 0.5695, 0.4490],\n",
            "        [0.1498, 0.2574, 0.4973],\n",
            "        [0.8849, 0.4373, 0.8271],\n",
            "        [0.8995, 0.1543, 0.0636],\n",
            "        [0.9587, 0.8708, 0.6334]])\n",
            "tensor([[0, 0, 0],\n",
            "        [0, 0, 0],\n",
            "        [0, 0, 0],\n",
            "        [0, 0, 0],\n",
            "        [0, 0, 0]])\n",
            "tensor([[5.5000, 3.0000],\n",
            "        [2.0000, 5.0000]])\n",
            "tensor([[1., 1., 1.],\n",
            "        [1., 1., 1.],\n",
            "        [1., 1., 1.],\n",
            "        [1., 1., 1.],\n",
            "        [1., 1., 1.]], dtype=torch.float64)\n",
            "tensor([[ 0.4514,  2.4713, -0.9485],\n",
            "        [-0.0103, -0.8165,  1.2393],\n",
            "        [-0.8310,  0.6338,  0.0696],\n",
            "        [-1.3051, -0.4998,  0.6786],\n",
            "        [ 0.5777,  0.1709,  1.1460]])\n",
            "torch.Size([5, 3])\n"
          ],
          "name": "stdout"
        }
      ]
    },
    {
      "cell_type": "code",
      "metadata": {
        "id": "tHqaeVHPuDWx",
        "colab_type": "code",
        "colab": {
          "base_uri": "https://localhost:8080/",
          "height": 290
        },
        "outputId": "de40af0e-10a0-46a7-fff8-574ab5857c60"
      },
      "source": [
        "\n",
        "### Manipulating tensors ### \n",
        "y = torch.rand(5,3)\n",
        "x = torch.rand(5,3)\n",
        "print(x+y)\n",
        "z = torch.add(x, y)\n",
        "print(z)\n",
        "\n",
        "#in place add\n",
        "y.add_(x) # y = y + x\n",
        "print(y)"
      ],
      "execution_count": 20,
      "outputs": [
        {
          "output_type": "stream",
          "text": [
            "tensor([[1.4362, 1.8632, 1.1272],\n",
            "        [1.5991, 0.8857, 0.0995],\n",
            "        [1.2847, 0.6366, 1.0287],\n",
            "        [1.0269, 1.6820, 0.7792],\n",
            "        [0.9224, 0.7543, 0.2645]])\n",
            "tensor([[1.4362, 1.8632, 1.1272],\n",
            "        [1.5991, 0.8857, 0.0995],\n",
            "        [1.2847, 0.6366, 1.0287],\n",
            "        [1.0269, 1.6820, 0.7792],\n",
            "        [0.9224, 0.7543, 0.2645]])\n",
            "tensor([[1.4362, 1.8632, 1.1272],\n",
            "        [1.5991, 0.8857, 0.0995],\n",
            "        [1.2847, 0.6366, 1.0287],\n",
            "        [1.0269, 1.6820, 0.7792],\n",
            "        [0.9224, 0.7543, 0.2645]])\n"
          ],
          "name": "stdout"
        }
      ]
    },
    {
      "cell_type": "code",
      "metadata": {
        "id": "52eT-xWyv0IP",
        "colab_type": "code",
        "colab": {
          "base_uri": "https://localhost:8080/",
          "height": 290
        },
        "outputId": "e039f38d-327b-4511-ecba-3d1f2cd8948c"
      },
      "source": [
        "# Numpy like stuff...\n",
        "import numpy as np\n",
        "x = torch.rand(5,3)\n",
        "print(x)\n",
        "print(x[2,1])\n",
        "print(x[2,:])\n",
        "print(x[:,1])\n",
        "\n",
        "\n",
        "x = torch.randn(4,4)\n",
        "y = x.view(16)\n",
        "z = x.view(-1,8) # the size -1 is inferred from other dims\n",
        "print(x.size(),y.size(),z.size())\n",
        "\n",
        "\n",
        "# to numpy array  \n",
        "a = torch.ones(5)\n",
        "print(a)\n",
        "b = a.numpy()\n",
        "print(b)\n",
        "a.add_(1)\n",
        "print(a)\n",
        "print(b) # the numpy array's value also changes\n",
        "\n",
        "# to tensor\n",
        "a = np.ones(5)\n",
        "b = torch.from_numpy(a)\n",
        "np.add(a,1,out = a)\n",
        "print(a)\n",
        "print(b)"
      ],
      "execution_count": 32,
      "outputs": [
        {
          "output_type": "stream",
          "text": [
            "tensor([[0.0467, 0.0106, 0.0600],\n",
            "        [0.8935, 0.9047, 0.5313],\n",
            "        [0.6758, 0.3942, 0.7085],\n",
            "        [0.9535, 0.2450, 0.5686],\n",
            "        [0.4188, 0.5982, 0.0839]])\n",
            "tensor(0.3942)\n",
            "tensor([0.6758, 0.3942, 0.7085])\n",
            "tensor([0.0106, 0.9047, 0.3942, 0.2450, 0.5982])\n",
            "torch.Size([4, 4]) torch.Size([16]) torch.Size([2, 8])\n",
            "tensor([1., 1., 1., 1., 1.])\n",
            "[1. 1. 1. 1. 1.]\n",
            "tensor([2., 2., 2., 2., 2.])\n",
            "[2. 2. 2. 2. 2.]\n",
            "[2. 2. 2. 2. 2.]\n",
            "tensor([2., 2., 2., 2., 2.], dtype=torch.float64)\n"
          ],
          "name": "stdout"
        }
      ]
    },
    {
      "cell_type": "markdown",
      "metadata": {
        "id": "G9OMDl48yadn",
        "colab_type": "text"
      },
      "source": [
        "**Autograd: Automatic Differentiation**\n",
        "\n"
      ]
    },
    {
      "cell_type": "code",
      "metadata": {
        "id": "N753kY6qyXNf",
        "colab_type": "code",
        "colab": {
          "base_uri": "https://localhost:8080/",
          "height": 126
        },
        "outputId": "889bac27-122a-441a-96e9-94b1c8217045"
      },
      "source": [
        "import torch\n",
        "\n",
        "# setting requires_grad = True lets pytorch track\n",
        "# all operations on x\n",
        "x = torch.ones(2,2,requires_grad = True) \n",
        "\n",
        "# do a tensor operation\n",
        "y = x + 2\n",
        "print(y) \n",
        "print(y.grad_fn) \n",
        "\n",
        "# DO more operations on y\n",
        "z = y*y*3\n",
        "out = z.mean()\n",
        "print(z,out)\n",
        "print(z.grad_fn)\n",
        "\n",
        "u = y + z\n",
        "#print(u.grad_fn())\n"
      ],
      "execution_count": 7,
      "outputs": [
        {
          "output_type": "stream",
          "text": [
            "tensor([[3., 3.],\n",
            "        [3., 3.]], grad_fn=<AddBackward0>)\n",
            "<AddBackward0 object at 0x7f84992c85c0>\n",
            "tensor([[27., 27.],\n",
            "        [27., 27.]], grad_fn=<MulBackward0>) tensor(27., grad_fn=<MeanBackward0>)\n",
            "<MulBackward0 object at 0x7f84992c85c0>\n"
          ],
          "name": "stdout"
        }
      ]
    },
    {
      "cell_type": "code",
      "metadata": {
        "id": "pr_36RSZnd10",
        "colab_type": "code",
        "colab": {
          "base_uri": "https://localhost:8080/",
          "height": 35
        },
        "outputId": "7b459985-6af4-416f-91f9-926c903e13f2"
      },
      "source": [
        "import numpy as np\n",
        "\n",
        "# numpy array\n",
        "array = [[1,2,3],[4,5,6]]\n",
        "first_array = np.array(array)\n",
        "shape = np.shape(first_array)\n",
        "print(shape)"
      ],
      "execution_count": 10,
      "outputs": [
        {
          "output_type": "stream",
          "text": [
            "(2, 3)\n"
          ],
          "name": "stdout"
        }
      ]
    },
    {
      "cell_type": "code",
      "metadata": {
        "id": "CbWAzacroX5M",
        "colab_type": "code",
        "colab": {
          "base_uri": "https://localhost:8080/",
          "height": 54
        },
        "outputId": "49867628-e0eb-4415-8db1-9614a9720f1e"
      },
      "source": [
        "import torch\n",
        "\n",
        "tensor = torch.Tensor(array)\n",
        "shape = tensor.shape\n",
        "print(tensor, shape)"
      ],
      "execution_count": 13,
      "outputs": [
        {
          "output_type": "stream",
          "text": [
            "tensor([[1., 2., 3.],\n",
            "        [4., 5., 6.]]) torch.Size([2, 3])\n"
          ],
          "name": "stdout"
        }
      ]
    },
    {
      "cell_type": "code",
      "metadata": {
        "id": "qhhsYDOaot7C",
        "colab_type": "code",
        "colab": {
          "base_uri": "https://localhost:8080/",
          "height": 235
        },
        "outputId": "d9901623-5217-4df0-a162-dee1a5fd95ca"
      },
      "source": [
        "# numpy ones\n",
        "print((np.ones((2,3))))\n",
        "\n",
        "# pytorch ones\n",
        "print(torch.ones((2,3)))\n",
        "\n",
        "\n",
        "# numpy random\n",
        "print(np.random.rand(2,3))\n",
        "\n",
        "# pytorch random\n",
        "print(torch.rand(2,3))\n",
        "\n",
        "# random nump array\n",
        "array = np.random.rand(2,2)\n",
        "np_to_tensor = torch.from_numpy(array) \n",
        "print(np_to_tensor)\n",
        "\n",
        "# tensor to numpy\n",
        "tensor = np_to_tensor\n",
        "tensor_to_np = tensor.numpy()\n",
        "print(tensor_to_np)\n",
        "\n"
      ],
      "execution_count": 21,
      "outputs": [
        {
          "output_type": "stream",
          "text": [
            "[[1. 1. 1.]\n",
            " [1. 1. 1.]]\n",
            "tensor([[1., 1., 1.],\n",
            "        [1., 1., 1.]])\n",
            "[[0.98388685 0.23990792 0.33643705]\n",
            " [0.78572605 0.12766569 0.30441972]]\n",
            "tensor([[0.1477, 0.7257, 0.1628],\n",
            "        [0.4254, 0.3879, 0.7484]])\n",
            "tensor([[0.0310, 0.3245],\n",
            "        [0.4177, 0.4549]], dtype=torch.float64)\n",
            "[[0.03101679 0.32448268]\n",
            " [0.41766715 0.45487839]]\n"
          ],
          "name": "stdout"
        }
      ]
    },
    {
      "cell_type": "code",
      "metadata": {
        "id": "snJlKRu4sr17",
        "colab_type": "code",
        "colab": {
          "base_uri": "https://localhost:8080/",
          "height": 290
        },
        "outputId": "a5ffd877-f200-4552-adc3-c787df0a4b4f"
      },
      "source": [
        "# create tensor\n",
        "tensor = torch.ones(3,3)\n",
        "\n",
        "# Resze\n",
        "print(tensor.view(9))\n",
        "\n",
        "# add\n",
        "print(torch.add(tensor,tensor))\n",
        "\n",
        "# sub\n",
        "print(torch.sub(tensor,tensor))\n",
        "\n",
        "# mul\n",
        "print(torch.mul(tensor,tensor))\n",
        "\n",
        "# div\n",
        "print(torch.mul(tensor,tensor))\n",
        "\n",
        "# mean\n",
        "tensor = torch.Tensor([1,2,3,4,5])\n",
        "print(tensor.mean())\n",
        "print(tensor.std())"
      ],
      "execution_count": 26,
      "outputs": [
        {
          "output_type": "stream",
          "text": [
            "tensor([1., 1., 1., 1., 1., 1., 1., 1., 1.])\n",
            "tensor([[2., 2., 2.],\n",
            "        [2., 2., 2.],\n",
            "        [2., 2., 2.]])\n",
            "tensor([[0., 0., 0.],\n",
            "        [0., 0., 0.],\n",
            "        [0., 0., 0.]])\n",
            "tensor([[1., 1., 1.],\n",
            "        [1., 1., 1.],\n",
            "        [1., 1., 1.]])\n",
            "tensor([[1., 1., 1.],\n",
            "        [1., 1., 1.],\n",
            "        [1., 1., 1.]])\n",
            "tensor(3.)\n",
            "tensor(1.5811)\n"
          ],
          "name": "stdout"
        }
      ]
    },
    {
      "cell_type": "code",
      "metadata": {
        "id": "BSpSr0uftpdL",
        "colab_type": "code",
        "colab": {
          "base_uri": "https://localhost:8080/",
          "height": 35
        },
        "outputId": "b915722e-8b36-4e60-8215-31d9e5b49891"
      },
      "source": [
        "from torch.autograd import Variable\n",
        "\n",
        "var = Variable(torch.ones(3), requires_grad = True)\n",
        "print(var)"
      ],
      "execution_count": 27,
      "outputs": [
        {
          "output_type": "stream",
          "text": [
            "tensor([1., 1., 1.], requires_grad=True)\n"
          ],
          "name": "stdout"
        }
      ]
    },
    {
      "cell_type": "code",
      "metadata": {
        "id": "tEe-OitZt-Qf",
        "colab_type": "code",
        "colab": {
          "base_uri": "https://localhost:8080/",
          "height": 108
        },
        "outputId": "890fb9a8-7fc9-49dc-c582-e1d034680ab3"
      },
      "source": [
        "# lets make basic backprop\n",
        "# y = x^2\n",
        "array = [2,4]\n",
        "tensor = torch.Tensor(array)\n",
        "x = Variable(tensor,requires_grad = True)\n",
        "y = x**2\n",
        "print(y)\n",
        "\n",
        "o = 1/2 * sum(y)\n",
        "print(o)\n",
        "\n",
        "# calcultes gradients\n",
        "o.backward()\n",
        "print(x.grad)\n",
        "print(y.grad)\n",
        "print(o.grad)"
      ],
      "execution_count": 30,
      "outputs": [
        {
          "output_type": "stream",
          "text": [
            "tensor([ 4., 16.], grad_fn=<PowBackward0>)\n",
            "tensor(10., grad_fn=<MulBackward0>)\n",
            "tensor([2., 4.])\n",
            "None\n",
            "None\n"
          ],
          "name": "stdout"
        }
      ]
    },
    {
      "cell_type": "code",
      "metadata": {
        "id": "3pH3Ae3vvR9-",
        "colab_type": "code",
        "colab": {
          "base_uri": "https://localhost:8080/",
          "height": 916
        },
        "outputId": "56cbbdb0-0509-4209-9106-98825f235cf6"
      },
      "source": [
        "#Libraries\n",
        "import torch\n",
        "from torch.autograd import Variable\n",
        "import torch.nn as nn\n",
        "import warnings\n",
        "warnings.filterwarnings(\"ignore\")\n",
        "\n",
        "# Linear Regression\n",
        "car_prices_array = [3,4,5,6,7,8,9]\n",
        "car_prices_np = np.array(car_prices_array, dtype = np.float32)\n",
        "car_prices_np = car_prices_np.reshape(-1,1)\n",
        "car_prices_tensor = Variable(torch.from_numpy(car_prices_np))\n",
        "\n",
        "num_of_car_sell_array = [7.5,7,6.5,6,5.5,5,4.5]\n",
        "num_of_car_sell_np = np.array(num_of_car_sell_array, dtype = np.float32)\n",
        "num_of_car_sell_np = num_of_car_sell_np.reshape(-1,1)\n",
        "num_of_car_sell_tensor = Variable(torch.from_numpy(num_of_car_sell_np))\n",
        "\n",
        "\n",
        "# Visualize data\n",
        "import matplotlib.pyplot as plt\n",
        "#plt.scatter(car_prices_array,num_of_car_sell_array)\n",
        "#plt.xlabel(\"Car price $\")\n",
        "#plt.ylabel(\"Num of Car sell\")\n",
        "#plt.show()\n",
        "\n",
        "\n",
        "# Create Class\n",
        "class LinearRegression(nn.Module):\n",
        "  def __init__(self,input_size,output_size):\n",
        "    # super function; inherits from nn.Module and we\n",
        "    # can access anything from nn.Module\n",
        "    \n",
        "    super(LinearRegression,self).__init__()\n",
        "    self.linear = nn.Linear(input_size,output_size)\n",
        "   \n",
        "  def forward(self,x):\n",
        "    return self.linear(x)\n",
        "  \n",
        "# def model\n",
        "inp_dim = 1\n",
        "out_dim = 1\n",
        "model = LinearRegression(inp_dim,out_dim)\n",
        "\n",
        "# MSE\n",
        "mse = nn.MSELoss()\n",
        "\n",
        "# Hyperparams\n",
        "learning_rate = 0.02\n",
        "optimizer = torch.optim.SGD(model.parameters(), lr = learning_rate)\n",
        "\n",
        "# train models\n",
        "loss_list = []\n",
        "iteration_number = 1001\n",
        "for iteration in range(iteration_number):\n",
        "  optimizer.zero_grad()\n",
        "  results = model(car_prices_tensor)\n",
        "  loss = mse(results,num_of_car_sell_tensor)\n",
        "  #backprop\n",
        "  loss.backward()\n",
        "  #update params\n",
        "  optimizer.step()\n",
        "  loss_list.append(loss.data)\n",
        "  if(iteration % 50 == 0):\n",
        "    print(\"epoch {}, loss {}\".format(iteration,loss.data))\n",
        " \n",
        "\n",
        "plt.plot(range(iteration_number), loss_list)\n",
        "plt.xlabel(\"Number of Iterations\")\n",
        "plt.ylabel(\"Loss\")\n",
        "plt.show()\n",
        "\n",
        "# Predict car prices\n",
        "predicted = model(car_prices_tensor).data.numpy()\n",
        "plt.scatter(car_prices_array, num_of_car_sell_array, label = \"original data\", color = \"red\")\n",
        "plt.scatter(car_prices_array, predicted, label = \"predicted data\", color = \"blue\")\n",
        "plt.legend()\n",
        "plt.show()\n",
        "\n",
        "\n",
        "\n",
        "\n",
        "\n",
        "\n",
        "  \n",
        "  \n",
        "  \n",
        "  \n",
        "\n"
      ],
      "execution_count": 46,
      "outputs": [
        {
          "output_type": "stream",
          "text": [
            "epoch 0, loss 44.818756103515625\n",
            "epoch 50, loss 5.076224327087402\n",
            "epoch 100, loss 3.430217981338501\n",
            "epoch 150, loss 2.3179421424865723\n",
            "epoch 200, loss 1.5663310289382935\n",
            "epoch 250, loss 1.0584346055984497\n",
            "epoch 300, loss 0.7152288556098938\n",
            "epoch 350, loss 0.4833102226257324\n",
            "epoch 400, loss 0.3265930712223053\n",
            "epoch 450, loss 0.22069263458251953\n",
            "epoch 500, loss 0.14913156628608704\n",
            "epoch 550, loss 0.10077428817749023\n",
            "epoch 600, loss 0.06809749454259872\n",
            "epoch 650, loss 0.04601651802659035\n",
            "epoch 700, loss 0.031095091253519058\n",
            "epoch 750, loss 0.021012239158153534\n",
            "epoch 800, loss 0.014198779128491879\n",
            "epoch 850, loss 0.009594668634235859\n",
            "epoch 900, loss 0.006483517587184906\n",
            "epoch 950, loss 0.004381241276860237\n",
            "epoch 1000, loss 0.002960584359243512\n"
          ],
          "name": "stdout"
        },
        {
          "output_type": "display_data",
          "data": {
            "image/png": "[encoded data removed]",
            "text/plain": [
              "<Figure size 432x288 with 1 Axes>"
            ]
          },
          "metadata": {
            "tags": []
          }
        },
        {
          "output_type": "display_data",
          "data": {
            "image/png": "[encoded data removed]",
            "text/plain": [
              "<Figure size 432x288 with 1 Axes>"
            ]
          },
          "metadata": {
            "tags": []
          }
        }
      ]
    }
  ]
}